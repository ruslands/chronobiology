{
 "cells": [
  {
   "cell_type": "markdown",
   "id": "03b7e9fb",
   "metadata": {},
   "source": [
    "# Storing data\n",
    "\n",
    "Activity data collected during an experiment is usually represented by an array of\n",
    "records with the following data:\n",
    "\n",
    "* time of measurement;\n",
    "\n",
    "* measured activity value;\n",
    "\n",
    "* time of day marker (night or day).\n",
    "\n",
    "We recommend [InfluxDB](https://www.influxdata.com/products/influxdb/) to store activity data.\n",
    "\n",
    "Each searies of measurements should be represented by a separate InfluxDB table with the following **fields**:\n",
    "\n",
    "* ``value`` -- numeric values obtained by sensors;\n",
    "\n",
    "* ``is_night`` -- day/night marker (``True`` for nighttime measurements and ``False`` for daytime measurements).\n",
    "\n",
    "Other data (like ``sensor_id`` in case of multiple sensors) can also be included in\n",
    "the table as **tags**.\n",
    "\n",
    "<div class=\"alert alert-info\">    \n",
    "In InfluxDB, data can be stored as a field or tag.\n",
    "Tags are more efficient to construct WHERE-queries but they can hold only string data.\n",
    "So it's better to have ``value`` and ``is_night`` stored as fields and other data\n",
    "(required for filtering purpuses) stored as tags.\n",
    "\n",
    "</div>\n",
    "\n",
    "\n",
    "For installing and configuring InfluxDB see [the official documentation](https://docs.influxdata.com/influxdb/v2.0/).\n",
    "Once your InfluxDB is initialized and configured, you are ready to write data to it."
   ]
  },
  {
   "cell_type": "markdown",
   "id": "15d87e9f",
   "metadata": {},
   "source": [
    "## Writing data to InfluxDB using Python\n",
    "\n",
    "In the following example, random measurements are generated and written to database via `InfluxDBClient`\n",
    "which can be downloaded using pip:\n",
    "\n",
    "```shell\n",
    "$ pip install influxdb\n",
    "```"
   ]
  },
  {
   "cell_type": "code",
   "execution_count": 1,
   "id": "ee22b197",
   "metadata": {},
   "outputs": [],
   "source": [
    "from influxdb import InfluxDBClient\n",
    "import json\n",
    "from datetime import datetime, timedelta\n",
    "import random"
   ]
  },
  {
   "cell_type": "code",
   "execution_count": 2,
   "id": "91ce1494",
   "metadata": {},
   "outputs": [],
   "source": [
    "# Create a client to access the database.\n",
    "client = InfluxDBClient('localhost', 8086, 'admin', 'pass', database='my_db')"
   ]
  },
  {
   "cell_type": "code",
   "execution_count": 3,
   "id": "9a1c4278",
   "metadata": {},
   "outputs": [
    {
     "data": {
      "text/plain": [
       "[{'measurement': 'test_series',\n",
       "  'tags': {'sensor_id': '1'},\n",
       "  'time': datetime.datetime(2021, 1, 1, 0, 0),\n",
       "  'fields': {'value': 2.636775703935856, 'is_night': True}},\n",
       " {'measurement': 'test_series',\n",
       "  'tags': {'sensor_id': '1'},\n",
       "  'time': datetime.datetime(2021, 1, 1, 1, 0),\n",
       "  'fields': {'value': 9.634964674586048, 'is_night': True}},\n",
       " {'measurement': 'test_series',\n",
       "  'tags': {'sensor_id': '1'},\n",
       "  'time': datetime.datetime(2021, 1, 1, 2, 0),\n",
       "  'fields': {'value': 5.488104584244404, 'is_night': True}},\n",
       " {'measurement': 'test_series',\n",
       "  'tags': {'sensor_id': '1'},\n",
       "  'time': datetime.datetime(2021, 1, 1, 3, 0),\n",
       "  'fields': {'value': 2.3051122236289237, 'is_night': True}},\n",
       " {'measurement': 'test_series',\n",
       "  'tags': {'sensor_id': '1'},\n",
       "  'time': datetime.datetime(2021, 1, 1, 4, 0),\n",
       "  'fields': {'value': 5.834270867285628, 'is_night': True}}]"
      ]
     },
     "execution_count": 3,
     "metadata": {},
     "output_type": "execute_result"
    }
   ],
   "source": [
    "# Generate random measurements.\n",
    "measurements=[]\n",
    "for i in range(5):\n",
    "    measurements.append({\n",
    "        'measurement': 'test_series',\n",
    "        'tags': {\n",
    "            'sensor_id': '1',\n",
    "        },\n",
    "        'time': datetime.fromisoformat('2021-01-01') + timedelta(hours=i),\n",
    "        'fields': {\n",
    "            'value': random.uniform(1, 10),\n",
    "            'is_night': True,\n",
    "        }\n",
    "    })\n",
    "measurements"
   ]
  },
  {
   "cell_type": "code",
   "execution_count": 4,
   "id": "5e8c12a8",
   "metadata": {},
   "outputs": [],
   "source": [
    "# Insert generated data to the database.\n",
    "client.write_points(measurements);"
   ]
  },
  {
   "cell_type": "code",
   "execution_count": 5,
   "id": "6b37d8dc",
   "metadata": {},
   "outputs": [
    {
     "data": {
      "text/plain": [
       "ResultSet({'('test_series', None)': [{'time': '2021-01-01T00:00:00Z', 'is_night': True, 'sensor_id': '1', 'value': 2.636775703935856}, {'time': '2021-01-01T01:00:00Z', 'is_night': True, 'sensor_id': '1', 'value': 9.634964674586048}, {'time': '2021-01-01T02:00:00Z', 'is_night': True, 'sensor_id': '1', 'value': 5.488104584244404}, {'time': '2021-01-01T03:00:00Z', 'is_night': True, 'sensor_id': '1', 'value': 2.3051122236289237}, {'time': '2021-01-01T04:00:00Z', 'is_night': True, 'sensor_id': '1', 'value': 5.834270867285628}]})"
      ]
     },
     "execution_count": 5,
     "metadata": {},
     "output_type": "execute_result"
    }
   ],
   "source": [
    "# Show the inserted data.\n",
    "client.query('''SELECT (*) FROM \"test_series\"''')"
   ]
  }
 ],
 "metadata": {
  "kernelspec": {
   "display_name": "Python 3 (ipykernel)",
   "language": "python",
   "name": "python3"
  },
  "language_info": {
   "codemirror_mode": {
    "name": "ipython",
    "version": 3
   },
   "file_extension": ".py",
   "mimetype": "text/x-python",
   "name": "python",
   "nbconvert_exporter": "python",
   "pygments_lexer": "ipython3",
   "version": "3.8.10"
  }
 },
 "nbformat": 4,
 "nbformat_minor": 5
}
